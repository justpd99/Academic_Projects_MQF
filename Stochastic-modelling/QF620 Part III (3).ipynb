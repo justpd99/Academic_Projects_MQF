{
 "cells": [
  {
   "cell_type": "markdown",
   "metadata": {},
   "source": [
    "# QF620 Part III"
   ]
  },
  {
   "cell_type": "markdown",
   "metadata": {},
   "source": [
    "Prathmesh Desai  \n",
    "Rahul Sreeram  \n",
    "Srivatsa Mitragotri  \n",
    "Nandini Agarwal  \n",
    "Harshita Sachdev  "
   ]
  },
  {
   "cell_type": "markdown",
   "metadata": {
    "id": "0LO1A8X0W-BP"
   },
   "source": [
    "# Import Library"
   ]
  },
  {
   "cell_type": "code",
   "execution_count": 4,
   "metadata": {
    "id": "FYiKC1LtXQ3w"
   },
   "outputs": [],
   "source": [
    "import pandas as pd\n",
    "import numpy as np\n",
    "\n",
    "import datetime as dt\n",
    "\n",
    "import matplotlib.pylab as plt\n",
    "\n",
    "from scipy import interpolate\n",
    "from scipy.stats import norm\n",
    "from scipy.optimize import brentq\n",
    "from scipy.integrate import quad"
   ]
  },
  {
   "cell_type": "markdown",
   "metadata": {
    "id": "PtxtKLTpw01z"
   },
   "source": [
    "# Import Data"
   ]
  },
  {
   "cell_type": "code",
   "execution_count": 6,
   "metadata": {
    "id": "Vj_zU8XGXAjr"
   },
   "outputs": [],
   "source": [
    "# Discount Rate\n",
    "rate_df = pd.read_csv('zero_rates_20201201.csv')\n",
    "\n",
    "# SPX General Data\n",
    "spx_df = pd.read_csv('SPX_options.csv')\n",
    "spx_df['strike_price'] = spx_df['strike_price']/1000\n",
    "spx_df['mid_price'] = (spx_df['best_bid'] + spx_df['best_offer'])/2\n",
    "\n",
    "# SPX Maturity Data\n",
    "spx = spx_df[(spx_df.exdate == 20210115)]\n",
    "\n",
    "# Time To Maturity\n",
    "today = dt.date(2020, 12, 1)\n",
    "exdate2 = dt.date(2021, 1, 15)\n",
    "T = (exdate2-today).days/365.0\n",
    "\n",
    "# Discount Rate Interpolation\n",
    "x = rate_df['days']\n",
    "y = rate_df['rate']\n",
    "f = interpolate.interp1d(x,y)\n",
    "r = f(T*365)/100\n",
    "\n",
    "S = 3662.45\n",
    "K = 3660"
   ]
  },
  {
   "cell_type": "markdown",
   "metadata": {
    "id": "kubjYWTUfWRk"
   },
   "source": [
    "# Models"
   ]
  },
  {
   "cell_type": "code",
   "execution_count": 8,
   "metadata": {
    "id": "h6ex9Oj8fZ-e"
   },
   "outputs": [],
   "source": [
    "# Black-Scholes Model\n",
    "def BlackScholesCall(S, K, r, sigma, T):\n",
    "    d1 = (np.log(S/K)+(r+sigma**2/2)*T) / (sigma*np.sqrt(T))\n",
    "    d2 = d1 - sigma*np.sqrt(T)\n",
    "    return S*norm.cdf(d1) - K*np.exp(-r*T)*norm.cdf(d2)\n",
    "\n",
    "def BlackScholesPut(S, K, r, sigma, T):\n",
    "    return BlackScholesCall(S,K,r,sigma,T)- S + K*np.exp(-r*T)\n",
    "\n",
    "# Bachelier Model\n",
    "def BachelierCall(S, K, r, sigma, T):\n",
    "    d = (S-K) / (S*sigma*np.sqrt(T))\n",
    "    disc = np.exp(-r*T)\n",
    "    return disc*((S-K)*norm.cdf(d)+S*sigma*np.sqrt(T)*norm.pdf(d))\n",
    "\n",
    "def BachelierPut(S, K, r, sigma, T):\n",
    "    d = (S-K) / (S*sigma*np.sqrt(T))\n",
    "    disc = np.exp(-r*T)\n",
    "    return disc*((K-S)*norm.cdf(-d)+S*sigma*np.sqrt(T)*norm.pdf(-d))\n",
    "\n",
    "# SABR Model\n",
    "def SABR(F, K, T, alpha, beta, rho, nu):\n",
    "    X = K\n",
    "    # if K is at-the-money-forward\n",
    "    if abs(F - K) < 1e-12:\n",
    "        numer1 = (((1 - beta)**2)/24)*alpha*alpha/(F**(2 - 2*beta))\n",
    "        numer2 = 0.25*rho*beta*nu*alpha/(F**(1 - beta))\n",
    "        numer3 = ((2 - 3*rho*rho)/24)*nu*nu\n",
    "        VolAtm = alpha*(1 + (numer1 + numer2 + numer3)*T)/(F**(1-beta))\n",
    "        sabrsigma = VolAtm\n",
    "    else:\n",
    "        z = (nu/alpha)*((F*X)**(0.5*(1-beta)))*np.log(F/X)\n",
    "        zhi = np.log((((1 - 2*rho*z + z*z)**0.5) + z - rho)/(1 - rho))\n",
    "        numer1 = (((1 - beta)**2)/24)*((alpha*alpha)/((F*X)**(1 - beta)))\n",
    "        numer2 = 0.25*rho*beta*nu*alpha/((F*X)**((1 - beta)/2))\n",
    "        numer3 = ((2 - 3*rho*rho)/24)*nu*nu\n",
    "        numer = alpha*(1 + (numer1 + numer2 + numer3)*T)*z\n",
    "        denom1 = ((1 - beta)**2/24)*(np.log(F/X))**2\n",
    "        denom2 = (((1 - beta)**4)/1920)*((np.log(F/X))**4)\n",
    "        denom = ((F*X)**((1 - beta)/2))*(1 + denom1 + denom2)*zhi\n",
    "        sabrsigma = numer/denom\n",
    "    return sabrsigma"
   ]
  },
  {
   "cell_type": "markdown",
   "metadata": {
    "id": "GoPwOLoyXl-I"
   },
   "source": [
    "# Implied Volatility"
   ]
  },
  {
   "cell_type": "code",
   "execution_count": 10,
   "metadata": {
    "id": "zP0SUrvVXlm1"
   },
   "outputs": [],
   "source": [
    "# Implied European Options Volatility Model\n",
    "def impliedCallVolatility(S, K, r, price, T):\n",
    "    try:\n",
    "        impliedVol = brentq(lambda x: price -\n",
    "                        BlackScholesCall(S, K, r, x, T),\n",
    "                        1e-6, 1)\n",
    "    except Exception:\n",
    "        impliedVol = np.nan\n",
    " \n",
    "    return impliedVol\n",
    "\n",
    "def impliedPutVolatility(S, K, r, price, T):\n",
    "    try:\n",
    "        impliedVol = brentq(lambda x: price -\n",
    "                        BlackScholesPut(S, K, r, x, T),\n",
    "                        1e-6, 1)\n",
    "    except Exception:\n",
    "        impliedVol = np.nan\n",
    "\n",
    "    return impliedVol\n",
    "\n",
    "## At The Money Volatility (ExDate: 2021/1/15)\n",
    "atm_call = spx[(spx.strike_price == K)]\n",
    "atm_call = atm_call[(atm_call.cp_flag == \"C\")]\n",
    "atm_put = spx[(spx.strike_price == K)]\n",
    "atm_put = atm_put[(atm_put.cp_flag == \"P\")]\n",
    "sigma_call = impliedCallVolatility(S, K, r , atm_call['mid_price'].iloc[0], T)\n",
    "sigma_put = impliedPutVolatility(S, K, r, atm_put['mid_price'].iloc[0], T)\n",
    "sigma = (sigma_call + sigma_put)/2"
   ]
  },
  {
   "cell_type": "markdown",
   "metadata": {
    "id": "3dnxZE5WWp48"
   },
   "source": [
    "# Black Scholes Model Integrated Variance"
   ]
  },
  {
   "cell_type": "code",
   "execution_count": 12,
   "metadata": {
    "id": "SOLCvaUEWpcS"
   },
   "outputs": [],
   "source": [
    "# Black Scholes Model Integrated Variance Function\n",
    "def callintegrand(K, S, r, T, sigma):\n",
    "    price = BlackScholesCall(S, K, r, sigma, T) / K**2\n",
    "    return price\n",
    "\n",
    "def putintegrand(K, S, r, T, sigma):\n",
    "    price = BlackScholesPut(S, K, r, sigma, T) / K**2\n",
    "    return price"
   ]
  },
  {
   "cell_type": "code",
   "execution_count": 13,
   "metadata": {
    "colab": {
     "base_uri": "https://localhost:8080/"
    },
    "id": "iImwxvapX-8w",
    "outputId": "a730fb21-f4a4-4b65-a9b8-973626e70416"
   },
   "outputs": [
    {
     "name": "stdout",
     "output_type": "stream",
     "text": [
      "Black Scholes Model Integrated Variance: 0.004236501\n"
     ]
    }
   ],
   "source": [
    "F = S * np.exp(r*T)\n",
    "I_put = quad(lambda x: putintegrand(x, S, r, T, sigma), 0.0, F)\n",
    "I_call = quad(lambda x: callintegrand(x, S, r, T, sigma), F, 5000)\n",
    "E_var_BSM = 2*np.exp(r*T)*(I_put[0] + I_call[0])\n",
    "\n",
    "print('Black Scholes Model Integrated Variance: %.9f' % E_var_BSM)"
   ]
  },
  {
   "cell_type": "markdown",
   "metadata": {
    "id": "x2u3pwssWPdR"
   },
   "source": [
    "# Black Scholes Model Derivative Pricing"
   ]
  },
  {
   "cell_type": "code",
   "execution_count": 15,
   "metadata": {
    "colab": {
     "base_uri": "https://localhost:8080/"
    },
    "id": "ntGfHINiTbbP",
    "outputId": "a8db8286-e9a2-483b-a620-c1b74fe20cd3"
   },
   "outputs": [
    {
     "name": "stdout",
     "output_type": "stream",
     "text": [
      "Black-Scholes Model Derivating Pricing: 37.714381258\n"
     ]
    }
   ],
   "source": [
    "# Black Scholes Model Derivative Pricing Model\n",
    "sigma_BSM = np.sqrt(E_var_BSM/T)\n",
    "\n",
    "def payoff_bsm(S,r,T,sigma):\n",
    "    payoff = S ** (1/3) * np.exp((1/3) * r * T - (1/9) *sigma ** 2 * T) + 1.5 * (np.log(S) + r * T - 0.5 * (sigma ** 2) * T) + 10\n",
    "    return payoff\n",
    "\n",
    "payoff_bs = payoff_bsm(S,r,T,sigma_BSM)\n",
    "\n",
    "print('Black-Scholes Model Derivating Pricing: %.9f' % payoff_bs)"
   ]
  },
  {
   "cell_type": "markdown",
   "metadata": {
    "id": "jWkXM8QLYJ9i"
   },
   "source": [
    "# Bachelier Model Integrated Variance"
   ]
  },
  {
   "cell_type": "code",
   "execution_count": 17,
   "metadata": {
    "id": "0b3whrDeYJpt"
   },
   "outputs": [],
   "source": [
    "# Bachelier Model Integrated Variance Function\n",
    "def callintegrandb(K, S, r, T, sigma):\n",
    "    price = BachelierCall(S, K, r, sigma, T) / K**2\n",
    "    return price\n",
    "\n",
    "def putintegrandb(K, S, r, T, sigma):\n",
    "    price = BachelierPut(S, K, r, sigma, T) / K**2\n",
    "    return price"
   ]
  },
  {
   "cell_type": "code",
   "execution_count": 18,
   "metadata": {
    "colab": {
     "base_uri": "https://localhost:8080/"
    },
    "id": "UTcNbq8EYma2",
    "outputId": "4cc8f403-52d2-4031-c5a2-cb14a4959cf7"
   },
   "outputs": [
    {
     "name": "stdout",
     "output_type": "stream",
     "text": [
      "Bachelier Model Integrated Variance: 0.004263876\n"
     ]
    }
   ],
   "source": [
    "F = S * np.exp(r*T)\n",
    "I_put = quad(lambda x: putintegrandb(x, S, r, T, sigma), 0.0, F)\n",
    "I_call = quad(lambda x: callintegrandb(x, S, r, T, sigma), F, 5000)\n",
    "E_var_B = 2*np.exp(r*T)*(I_put[0] + I_call[0])\n",
    "\n",
    "print('Bachelier Model Integrated Variance: %.9f' % E_var_B)"
   ]
  },
  {
   "cell_type": "markdown",
   "metadata": {
    "id": "JYSVeSpOXVwR"
   },
   "source": [
    "# Bachelier Model Derivative Pricing"
   ]
  },
  {
   "cell_type": "code",
   "execution_count": 20,
   "metadata": {
    "colab": {
     "base_uri": "https://localhost:8080/"
    },
    "id": "h9JrgcEmXVbr",
    "outputId": "e8e7f5aa-ccd8-4392-a59e-7c5ad0d2577e"
   },
   "outputs": [
    {
     "name": "stdout",
     "output_type": "stream",
     "text": [
      "Bachelier Model Derivative Pricing: 37.713596817\n"
     ]
    }
   ],
   "source": [
    "# Bachelier Model Derivative Pricing Model\n",
    "sigma_B = np.sqrt(E_var_B/T)\n",
    "\n",
    "x_bachelier = lambda x: (((S + sigma_B*np.sqrt(T)*x)**(1/3))+ (1.5* np.log(S + sigma_B*np.sqrt(T)*x)) +10 )*np.exp(-(x**2/2))\n",
    "x_b,err = quad(x_bachelier, -(np.inf), np.inf)\n",
    "\n",
    "derivative_bachelier = np.exp(-r*T)/np.sqrt(2*np.pi)*x_b\n",
    "\n",
    "print('Bachelier Model Derivative Pricing: %.9f' % derivative_bachelier)"
   ]
  },
  {
   "cell_type": "markdown",
   "metadata": {
    "id": "tUpP1grzY2oc"
   },
   "source": [
    "# SABR Model Integrated Variance"
   ]
  },
  {
   "cell_type": "code",
   "execution_count": 22,
   "metadata": {
    "id": "LW4zoY-lY2TT"
   },
   "outputs": [],
   "source": [
    "# SABR Implied Volatility Model\n",
    "def SABRCall(S, K, r, alpha, beta, rho, nu, T):\n",
    "    sabr_vol = SABR(S*np.exp(r*T), K, T, alpha, beta, rho, nu)\n",
    "    return BlackScholesCall(S, K, r, sabr_vol, T)\n",
    "\n",
    "def SABRPut(S, K, r, alpha, beta, rho, nu, T):\n",
    "    sabr_vol = SABR(S*np.exp(r*T), K, T, alpha, beta, rho, nu)\n",
    "    return BlackScholesPut(S, K, r, sabr_vol, T)\n",
    "\n",
    "# SABR Model Integrated Variance Function\n",
    "def sabrcallintegrand(K, S, r, T, alpha, beta, rho, nu):\n",
    "    price = SABRCall(S, K, r, alpha, beta, rho, nu, T) / K**2\n",
    "    return price\n",
    "\n",
    "def sabrputintegrand(K, S, r, T, alpha, beta, rho, nu):\n",
    "    price = SABRPut(S, K, r, alpha, beta, rho, nu, T) / K**2\n",
    "    return price"
   ]
  },
  {
   "cell_type": "code",
   "execution_count": 23,
   "metadata": {
    "colab": {
     "base_uri": "https://localhost:8080/"
    },
    "id": "rfs8rhIdZOMR",
    "outputId": "32d74ef5-a255-495d-cee8-67df464ede29"
   },
   "outputs": [
    {
     "name": "stdout",
     "output_type": "stream",
     "text": [
      "SABR Model Integrated Variance: 0.006337324\n"
     ]
    }
   ],
   "source": [
    "alpha = 1.817\n",
    "beta = 0.7\n",
    "rho = -0.404\n",
    "nu = 2.790\n",
    "\n",
    "F = S * np.exp(r*T)\n",
    "I_put = quad(lambda x: sabrputintegrand(x, S, r, T, alpha, beta, rho, nu), 1e-6, F)\n",
    "I_call = quad(lambda x: sabrcallintegrand(x, S, r, T, alpha, beta, rho, nu), F, 5000)\n",
    "E_var_SABR = 2*np.exp(r*T)*(I_put[0] + I_call[0])\n",
    "\n",
    "print('SABR Model Integrated Variance: %.9f' % E_var_SABR)"
   ]
  },
  {
   "cell_type": "markdown",
   "metadata": {
    "id": "Zhtif8UHaEQl"
   },
   "source": [
    "# SABR Model Derivative Pricing"
   ]
  },
  {
   "cell_type": "code",
   "execution_count": 25,
   "metadata": {
    "colab": {
     "base_uri": "https://localhost:8080/"
    },
    "id": "9vHxH7K5TJNI",
    "outputId": "b88f508d-c7e3-42b5-c312-66c3bd5c75ad"
   },
   "outputs": [
    {
     "name": "stdout",
     "output_type": "stream",
     "text": [
      "Bachelier Model Derivative Pricing (SABR): 37.713596817\n",
      "Black-Scholes Model Derivative Pricing (SABR): 37.709209373\n"
     ]
    }
   ],
   "source": [
    "# SABR Model Derivative Pricing Model\n",
    "sigma_SABR = np.sqrt(E_var_SABR/T)\n",
    "\n",
    "x_SABR_bachelier = lambda x: (((S + sigma_SABR*np.sqrt(T)*x)**(1/3))+ (1.5* np.log(S + sigma_SABR*np.sqrt(T)*x)) +10 )*np.exp(-(x**2/2))\n",
    "x_SABR,err = quad(x_SABR_bachelier, -(np.inf), np.inf)\n",
    "\n",
    "derivative_SABR_bachelier = np.exp(-r*T)/np.sqrt(2*np.pi)*x_SABR\n",
    "\n",
    "print('Bachelier Model Derivative Pricing (SABR): %.9f' % derivative_SABR_bachelier)\n",
    "\n",
    "payoff_SABR_bs = payoff_bsm(S,r,T,sigma_SABR)\n",
    "\n",
    "print('Black-Scholes Model Derivative Pricing (SABR): %.9f' % payoff_SABR_bs)"
   ]
  }
 ],
 "metadata": {
  "colab": {
   "name": "QF620 - Part III.ipynb",
   "provenance": []
  },
  "kernelspec": {
   "display_name": "Python 3 (ipykernel)",
   "language": "python",
   "name": "python3"
  },
  "language_info": {
   "codemirror_mode": {
    "name": "ipython",
    "version": 3
   },
   "file_extension": ".py",
   "mimetype": "text/x-python",
   "name": "python",
   "nbconvert_exporter": "python",
   "pygments_lexer": "ipython3",
   "version": "3.12.7"
  }
 },
 "nbformat": 4,
 "nbformat_minor": 4
}
