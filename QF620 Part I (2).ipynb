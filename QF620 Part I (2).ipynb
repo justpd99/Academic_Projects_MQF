{
 "cells": [
  {
   "cell_type": "markdown",
   "metadata": {},
   "source": [
    "# QF620 Part I"
   ]
  },
  {
   "cell_type": "markdown",
   "metadata": {},
   "source": [
    "Prathmesh Desai  \n",
    "Rahul Sreeram  \n",
    "Srivatsa Mitragotri  \n",
    "Nandini Agarwal  \n",
    "Harshita Sachdev  "
   ]
  },
  {
   "cell_type": "markdown",
   "metadata": {
    "id": "eT0g2Ze5L7j1"
   },
   "source": [
    "# Import Library"
   ]
  },
  {
   "cell_type": "code",
   "execution_count": 1,
   "metadata": {
    "id": "9K_DfCaj4Clo"
   },
   "outputs": [],
   "source": [
    "import pandas as pd\n",
    "import numpy as np"
   ]
  },
  {
   "cell_type": "markdown",
   "metadata": {
    "id": "KXGwkizjF1fM"
   },
   "source": [
    "# Black-Scholes Model"
   ]
  },
  {
   "cell_type": "code",
   "execution_count": 2,
   "metadata": {
    "id": "SbuMsLurF32e"
   },
   "outputs": [],
   "source": [
    "def BlackScholesCall(S, K, r, sigma, T):\n",
    "    d1 = (np.log(S/K)+(r+sigma**2/2)*T) / (sigma*np.sqrt(T))\n",
    "    d2 = d1 - sigma*np.sqrt(T)\n",
    "    return S*norm.cdf(d1) - K*np.exp(-r*T)*norm.cdf(d2)\n",
    "\n",
    "def BlackScholesPut(S, K, r, sigma, T):\n",
    "    d1 = (np.log(S/K)+(r+sigma**2/2)*T) / (sigma*np.sqrt(T))\n",
    "    d2 = d1 - sigma*np.sqrt(T)\n",
    "    return K*np.exp(-r*T)*norm.cdf(-d2) - S*norm.cdf(-d1)\n",
    "\n",
    "def BlackScholesDCashCall(S, K, r, sigma ,T):\n",
    "    d1 = (np.log(S/K)+(r+sigma**2/2)*T) / (sigma*np.sqrt(T))\n",
    "    d2 = d1 - sigma*np.sqrt(T)\n",
    "    return np.exp(-r*T)*norm.cdf(d2)\n",
    "\n",
    "def BlackScholesDCashPut(S, K, r, sigma ,T):\n",
    "    d1 = (np.log(S/K)+(r+sigma**2/2)*T) / (sigma*np.sqrt(T))\n",
    "    d2 = d1 - sigma*np.sqrt(T)\n",
    "    return np.exp(-r*T)*norm.cdf(-d2)\n",
    "\n",
    "def BlackScholesDAssetCall(S, K, r, sigma ,T):\n",
    "    d1 = (np.log(S/K)+(r+sigma**2/2)*T) / (sigma*np.sqrt(T))\n",
    "    d2 = d1 - sigma*np.sqrt(T)\n",
    "    return S*norm.cdf(d1)\n",
    "\n",
    "def BlackScholesDAssetPut(S, K, r, sigma ,T):\n",
    "    d1 = (np.log(S/K)+(r+sigma**2/2)*T) / (sigma*np.sqrt(T))\n",
    "    d2 = d1 - sigma*np.sqrt(T)\n",
    "    return S*norm.cdf(-d1)"
   ]
  },
  {
   "cell_type": "markdown",
   "metadata": {
    "id": "0AbL5Ze7F_P8"
   },
   "source": [
    "# Bachelier Model"
   ]
  },
  {
   "cell_type": "code",
   "execution_count": 3,
   "metadata": {
    "id": "rli_0RHwGCLX"
   },
   "outputs": [],
   "source": [
    "def BachelierCall(S, K, r, sigma, T):\n",
    "    c = (S-K) / (sigma*S*np.sqrt(T))\n",
    "    return np.exp(-r*T)*((S-K)*norm.cdf(c) + sigma*S*np.sqrt(T)*norm.pdf(c))\n",
    "\n",
    "def BachelierPut(S, K, r, sigma, T):\n",
    "    c = (S-K) / (sigma*S*np.sqrt(T))\n",
    "    return np.exp(-r*T)*((K-S)*norm.cdf(-c) + sigma*S*np.sqrt(T)*norm.pdf(-c))   \n",
    "\n",
    "def BachelierDCashCall(S, K, r, sigma, T):\n",
    "    c = (S-K) / (sigma*S*np.sqrt(T))\n",
    "    return np.exp(-r*T)*norm.cdf(c)\n",
    "\n",
    "def BachelierDCashPut(S, K, r, sigma, T):\n",
    "    c = (S-K) / (sigma*S*np.sqrt(T))\n",
    "    return np.exp(-r*T)*norm.cdf(-c)\n",
    "\n",
    "def BachelierDAssetCall(S, K, r, sigma, T):\n",
    "    c = (S-K) / (sigma*S*np.sqrt(T))\n",
    "    return np.exp(-r*T)*(S*norm.cdf(c) + sigma*S*np.sqrt(T)*norm.pdf(c))\n",
    "\n",
    "def BachelierDAssetPut(S, K, r, sigma, T):\n",
    "    c = (S-K) / (sigma*S*np.sqrt(T))\n",
    "    return np.exp(-r*T)*(S*norm.cdf(-c) - sigma*S*np.sqrt(T)*norm.pdf(-c))"
   ]
  },
  {
   "cell_type": "markdown",
   "metadata": {
    "id": "JcgEW-nLGDcE"
   },
   "source": [
    "# Black76 Model"
   ]
  },
  {
   "cell_type": "code",
   "execution_count": 4,
   "metadata": {
    "id": "sb5WZAt1GFzO"
   },
   "outputs": [],
   "source": [
    "def Black76Call(S, K, r, sigma, T):\n",
    "    F = np.exp(r*T)*S\n",
    "    d1 = (np.log(F/K)+(sigma**2/2)*T) / (sigma*np.sqrt(T))\n",
    "    d2 = d1 - sigma*np.sqrt(T)\n",
    "    return np.exp(-r*T)*(F*norm.cdf(d1) - K*norm.cdf(d2))\n",
    "\n",
    "def Black76Put(S, K, r, sigma, T):\n",
    "    F= np.exp(r*T)*S\n",
    "    d1 = (np.log(F/K)+(sigma**2/2)*T) / (sigma*np.sqrt(T))\n",
    "    d2 = d1 - sigma*np.sqrt(T)\n",
    "    return np.exp(-r*T)*(K*norm.cdf(-d2) - F*norm.cdf(-d1))\n",
    "\n",
    "def Black76DCashCall(S, K, r, sigma, T):\n",
    "    F = np.exp(r*T)*S\n",
    "    d1 = (np.log(F/K)+(sigma**2/2)*T) / (sigma*np.sqrt(T))\n",
    "    d2 = d1 - sigma*np.sqrt(T)\n",
    "    return np.exp(-r*T)*norm.cdf(d2)\n",
    "\n",
    "def Black76DCashPut(S, K, r, sigma, T):\n",
    "    F = np.exp(r*T)*S\n",
    "    d1 = (np.log(F/K)+(sigma**2/2)*T) / (sigma*np.sqrt(T))\n",
    "    d2 = d1 - sigma*np.sqrt(T)\n",
    "    return np.exp(-r*T)*norm.cdf(-d2)\n",
    "\n",
    "def Black76DAssetCall(S, K, r, sigma, T):\n",
    "    F = np.exp(r*T)*S\n",
    "    d1 = (np.log(F/K)+(sigma**2/2)*T) / (sigma*np.sqrt(T))\n",
    "    d2 = d1 - sigma*np.sqrt(T)\n",
    "    return F*np.exp(-r*T)*norm.cdf(d1)\n",
    "\n",
    "def Black76DAssetPut(S, K, r, sigma, T):\n",
    "    F = np.exp(r*T)*S\n",
    "    d1 = (np.log(F/K)+(sigma**2/2)*T) / (sigma*np.sqrt(T))\n",
    "    d2 = d1 - sigma*np.sqrt(T)\n",
    "    return F*np.exp(-r*T)*norm.cdf(-d1)"
   ]
  },
  {
   "cell_type": "markdown",
   "metadata": {
    "id": "o3AY-a1NGH6X"
   },
   "source": [
    "# Displaced Diffusion Model"
   ]
  },
  {
   "cell_type": "code",
   "execution_count": 5,
   "metadata": {
    "id": "6SEHLXScGKi-"
   },
   "outputs": [],
   "source": [
    "def DisplacedDiffusionCall(S, K, r, sigma, T, beta):\n",
    "    F = np.exp(r*T)*S\n",
    "    c1 = (np.log(F/(F+beta*(K-F)))+(beta*sigma)**2/2*T) / (beta*sigma*np.sqrt(T))\n",
    "    c2 = c1 - beta*sigma*np.sqrt(T)\n",
    "    return np.exp(-r*T)*(F/beta*norm.cdf(c1) - ((1-beta)/beta*F + K)*norm.cdf(c2))\n",
    "\n",
    "def DisplacedDiffusionPut(S, K, r, sigma, T, beta):\n",
    "    F = np.exp(r*T)*S\n",
    "    c1 = (np.log(F/(F+beta*(K-F)))+(beta*sigma)**2/2*T) / (beta*sigma*np.sqrt(T))\n",
    "    c2 = c1 - beta*sigma*np.sqrt(T)\n",
    "    return np.exp(-r*T)*(((1-beta)/beta*F + K)*norm.cdf(-c2) - F/beta*norm.cdf(-c1))\n",
    "\n",
    "def DisplacedDiffusionDCashCall(S, K, r, sigma, T, beta):\n",
    "    F = np.exp(r*T)*S\n",
    "    c1 = (np.log(F/(F+beta*(K-F)))+(beta*sigma)**2/2*T) / (beta*sigma*np.sqrt(T))\n",
    "    c2 = c1 - beta*sigma*np.sqrt(T)\n",
    "    return np.exp(-r*T)*norm.cdf(c2)\n",
    "\n",
    "def DisplacedDiffusionDCashPut(S, K, r, sigma, T, beta):\n",
    "    F = np.exp(r*T)*S\n",
    "    c1 = (np.log(F/(F+beta*(K-F)))+(beta*sigma)**2/2*T) / (beta*sigma*np.sqrt(T))\n",
    "    c2 = c1 - beta*sigma*np.sqrt(T)\n",
    "    return np.exp(-r*T)*norm.cdf(-c2)\n",
    "\n",
    "def DisplacedDiffusionDAssetCall(S, K, r, sigma, T, beta):\n",
    "    F = np.exp(r*T)*S\n",
    "    c1 = (np.log(F/(F+beta*(K-F)))+(beta*sigma)**2/2*T) / (beta*sigma*np.sqrt(T))\n",
    "    c2 = c1 - beta*sigma*np.sqrt(T)\n",
    "    return np.exp(-r*T)*(F/beta*norm.cdf(c1) - ((1-beta)/beta*F)*norm.cdf(c2))\n",
    "\n",
    "def DisplacedDiffusionDAssetPut(S, K, r, sigma, T, beta):\n",
    "    F = np.exp(r*T)*S\n",
    "    c1 = (np.log(F/(F+beta*(K-F)))+(beta*sigma)**2/2*T) / (beta*sigma*np.sqrt(T))\n",
    "    c2 = c1 - beta*sigma*np.sqrt(T)\n",
    "    return np.exp(-r*T)*(F/beta*norm.cdf(-c1) - ((1-beta)/beta*F)*norm.cdf(-c2))"
   ]
  }
 ],
 "metadata": {
  "colab": {
   "collapsed_sections": [],
   "name": "QF620 - Part I.ipynb",
   "provenance": []
  },
  "kernelspec": {
   "display_name": "Python 3 (ipykernel)",
   "language": "python",
   "name": "python3"
  },
  "language_info": {
   "codemirror_mode": {
    "name": "ipython",
    "version": 3
   },
   "file_extension": ".py",
   "mimetype": "text/x-python",
   "name": "python",
   "nbconvert_exporter": "python",
   "pygments_lexer": "ipython3",
   "version": "3.12.7"
  }
 },
 "nbformat": 4,
 "nbformat_minor": 4
}
